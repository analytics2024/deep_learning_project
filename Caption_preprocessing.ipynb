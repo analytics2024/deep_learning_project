{
 "cells": [
  {
   "cell_type": "code",
   "execution_count": 2,
   "id": "4fbf287a",
   "metadata": {},
   "outputs": [],
   "source": [
    "from pickle import dump\n",
    "import string\n",
    "\n",
    "def create_caption_dictionary(raw_text):\n",
    "    captions = {}\n",
    "    for line in raw_text.split('\\n'):\n",
    "        if len(line) < 1:\n",
    "            continue\n",
    "        \n",
    "        tmp = line.split()\n",
    "        photo_id = tmp[0].split('.')[0] \n",
    "        caption = ' '.join(tmp[1:])\n",
    "        \n",
    "        if photo_id not in captions.keys():\n",
    "            captions[photo_id] = []\n",
    "        captions[photo_id].append(caption) \n",
    "\n",
    "    return captions\n",
    "\n",
    "def clean_captions(caption_dict):\n",
    "\n",
    "    translation_table = str.maketrans('', '', string.punctuation)\n",
    "    for photo_id, caption_list in caption_dict.items():\n",
    "        for i in range(len(caption_list)):\n",
    "            caption = caption_list[i]\n",
    "            caption = caption.lower()\n",
    "            #caption = re.sub('[^\\w\\s]', '', caption) \n",
    "            caption = caption.translate(translation_table)\n",
    "            \n",
    "            caption_list[i] = caption\n",
    "            \n",
    "    return caption_dict\n",
    "\n",
    "if __name__ == \"__main__\":\n",
    "    with open(\"Flickr8k_text/Flickr8k.token.txt\", \"r\") as file:\n",
    "        raw_text = file.read()\n",
    "        \n",
    "    caption_dict = create_caption_dictionary(raw_text)\n",
    "    caption_dict = clean_captions(caption_dict)\n",
    "    \n",
    "    # Save the caption_dict for future use\n",
    "    with open(\"captions.pkl\", \"wb\") as file:\n",
    "        dump(caption_dict, file)\n"
   ]
  },
  {
   "cell_type": "code",
   "execution_count": null,
   "id": "eb25fba6",
   "metadata": {},
   "outputs": [],
   "source": []
  }
 ],
 "metadata": {
  "kernelspec": {
   "display_name": "Python 3 (ipykernel)",
   "language": "python",
   "name": "python3"
  },
  "language_info": {
   "codemirror_mode": {
    "name": "ipython",
    "version": 3
   },
   "file_extension": ".py",
   "mimetype": "text/x-python",
   "name": "python",
   "nbconvert_exporter": "python",
   "pygments_lexer": "ipython3",
   "version": "3.11.5"
  }
 },
 "nbformat": 4,
 "nbformat_minor": 5
}
